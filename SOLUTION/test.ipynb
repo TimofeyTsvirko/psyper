{
 "cells": [
  {
   "cell_type": "code",
   "execution_count": 1,
   "metadata": {},
   "outputs": [],
   "source": [
    "from ultralytics import YOLO\n",
    "import cv2\n",
    "from PIL import Image"
   ]
  },
  {
   "cell_type": "code",
   "execution_count": 4,
   "metadata": {},
   "outputs": [],
   "source": [
    "model = YOLO('base-m.pt')"
   ]
  },
  {
   "cell_type": "code",
   "execution_count": 7,
   "metadata": {},
   "outputs": [
    {
     "name": "stderr",
     "output_type": "stream",
     "text": [
      "\n",
      "0: 448x640 3 blueberrys, 412.7ms\n",
      "Speed: 5.4ms preprocess, 412.7ms inference, 0.0ms postprocess per image at shape (1, 3, 448, 640)\n"
     ]
    }
   ],
   "source": [
    "results = model(['rasp.JPEG'])"
   ]
  },
  {
   "cell_type": "code",
   "execution_count": 6,
   "metadata": {},
   "outputs": [],
   "source": [
    "for r in results:\n",
    "    im_array = r.plot()  # plot a BGR numpy array of predictions\n",
    "    im = Image.fromarray(im_array[..., ::-1])  # RGB PIL image\n",
    "    im.show()  # show image"
   ]
  },
  {
   "cell_type": "code",
   "execution_count": 1,
   "metadata": {},
   "outputs": [
    {
     "ename": "SystemExit",
     "evalue": "0",
     "output_type": "error",
     "traceback": [
      "An exception has occurred, use %tb to see the full traceback.\n",
      "\u001b[1;31mSystemExit\u001b[0m\u001b[1;31m:\u001b[0m 0\n"
     ]
    },
    {
     "name": "stderr",
     "output_type": "stream",
     "text": [
      "c:\\Timofey\\Tournaments\\IT-Camp2023\\env\\yolov8\\lib\\site-packages\\IPython\\core\\interactiveshell.py:3516: UserWarning: To exit: use 'exit', 'quit', or Ctrl-D.\n",
      "  warn(\"To exit: use 'exit', 'quit', or Ctrl-D.\", stacklevel=1)\n"
     ]
    }
   ],
   "source": [
    "import sys\n",
    "from PyQt5.QtWidgets import QApplication, QMainWindow, QWidget, QLabel, QVBoxLayout, QHBoxLayout, QScrollArea\n",
    "from PyQt5.QtGui import QPixmap\n",
    "\n",
    "class ImageScrollViewer(QMainWindow):\n",
    "    def __init__(self):\n",
    "        super().__init__()\n",
    "\n",
    "        self.setWindowTitle(\"Image Scroll Viewer\")\n",
    "        self.setGeometry(100, 100, 800, 600)\n",
    "\n",
    "        main_widget = QWidget(self)\n",
    "        self.setCentralWidget(main_widget)\n",
    "\n",
    "        main_layout = QVBoxLayout(main_widget)\n",
    "\n",
    "        scroll_area = QScrollArea()\n",
    "        content_widget = QWidget()\n",
    "        self.image_layout = QHBoxLayout(content_widget)\n",
    "        scroll_area.setWidgetResizable(True)\n",
    "        scroll_area.setWidget(content_widget)\n",
    "\n",
    "        main_layout.addWidget(scroll_area)\n",
    "\n",
    "        self.load_images()\n",
    "\n",
    "    def load_images(self):\n",
    "        # Замените следующую строку на код загрузки ваших изображений\n",
    "        image_paths = [\"images/blueberry348.jpg\", \"images/blueberry354.jpg\", \"images/rasp.JPEG\"]\n",
    "\n",
    "        for path in image_paths:\n",
    "            pixmap = QPixmap(path)\n",
    "            if not pixmap.isNull():\n",
    "                label = QLabel()\n",
    "                label.setPixmap(pixmap)\n",
    "                self.image_layout.addWidget(label)\n",
    "\n",
    "if __name__ == \"__main__\":\n",
    "    app = QApplication(sys.argv)\n",
    "    window = ImageScrollViewer()\n",
    "    window.show()\n",
    "    sys.exit(app.exec_())\n"
   ]
  },
  {
   "cell_type": "code",
   "execution_count": null,
   "metadata": {},
   "outputs": [],
   "source": [
    "import random\n",
    "import time \n",
    "\n",
    "allCord = []\n",
    "for step in range(0,20):\n",
    "    nl=(random.uniform(61902, 61922))/1000\n",
    "    el=(random.uniform(34040, 34064))/1000\n",
    "    intense=random.uniform(0.1, 0.99)\n",
    "    cord=[nl,el,intense]\n",
    "    allCord.append(cord)\n",
    "\n",
    "\n",
    "HeatMap(allCord).add_to(map_obj)\n",
    "\n",
    "map_obj\n",
    "    "
   ]
  },
  {
   "cell_type": "code",
   "execution_count": null,
   "metadata": {},
   "outputs": [],
   "source": []
  }
 ],
 "metadata": {
  "kernelspec": {
   "display_name": "Python 3",
   "language": "python",
   "name": "python3"
  },
  "language_info": {
   "codemirror_mode": {
    "name": "ipython",
    "version": 3
   },
   "file_extension": ".py",
   "mimetype": "text/x-python",
   "name": "python",
   "nbconvert_exporter": "python",
   "pygments_lexer": "ipython3",
   "version": "3.10.10"
  },
  "orig_nbformat": 4
 },
 "nbformat": 4,
 "nbformat_minor": 2
}
